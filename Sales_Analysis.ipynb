{
  "nbformat": 4,
  "nbformat_minor": 0,
  "metadata": {
    "colab": {
      "provenance": [],
      "mount_file_id": "1B7jrLxR-TSlXSrXU50ox0d1hizAgU8Sn",
      "authorship_tag": "ABX9TyOY3n+7d1U1rD4ouI9t2pqA",
      "include_colab_link": true
    },
    "kernelspec": {
      "name": "python3",
      "display_name": "Python 3"
    },
    "language_info": {
      "name": "python"
    }
  },
  "cells": [
    {
      "cell_type": "markdown",
      "metadata": {
        "id": "view-in-github",
        "colab_type": "text"
      },
      "source": [
        "<a href=\"https://colab.research.google.com/github/NijjohUnno/SalesAnalysis/blob/main/Sales_Analysis.ipynb\" target=\"_parent\"><img src=\"https://colab.research.google.com/assets/colab-badge.svg\" alt=\"Open In Colab\"/></a>"
      ]
    },
    {
      "cell_type": "markdown",
      "source": [
        "# **First we import the python Libraries and the dataset**"
      ],
      "metadata": {
        "id": "ZLbYO6dJ8VUO"
      }
    },
    {
      "cell_type": "code",
      "execution_count": null,
      "metadata": {
        "id": "91Y3rbg-4pji"
      },
      "outputs": [],
      "source": [
        "import pandas as pd\n",
        "import seaborn as sns\n",
        "import numpy as np\n",
        "\n",
        "January = pd.read_csv('/content/drive/MyDrive/Sales_Data/Sales_January_2019.csv')\n",
        "February = pd.read_csv('/content/drive/MyDrive/Sales_Data/Sales_February_2019.csv')\n",
        "March = pd.read_csv('/content/drive/MyDrive/Sales_Data/Sales_March_2019.csv')\n",
        "April = pd.read_csv('/content/drive/MyDrive/Sales_Data/Sales_April_2019.csv')\n",
        "May = pd.read_csv('/content/drive/MyDrive/Sales_Data/Sales_March_2019.csv')\n",
        "June = pd.read_csv('/content/drive/MyDrive/Sales_Data/Sales_June_2019.csv')\n",
        "July = pd.read_csv('/content/drive/MyDrive/Sales_Data/Sales_July_2019.csv')\n",
        "August = pd.read_csv('/content/drive/MyDrive/Sales_Data/Sales_August_2019.csv')\n",
        "September = pd.read_csv('/content/drive/MyDrive/Sales_Data/Sales_September_2019.csv')\n",
        "October = pd.read_csv('/content/drive/MyDrive/Sales_Data/Sales_October_2019.csv')\n",
        "November = pd.read_csv('/content/drive/MyDrive/Sales_Data/Sales_November_2019.csv')\n",
        "December = pd.read_csv('/content/drive/MyDrive/Sales_Data/Sales_December_2019.csv')"
      ]
    },
    {
      "cell_type": "code",
      "source": [
        "January.head()\n"
      ],
      "metadata": {
        "colab": {
          "base_uri": "https://localhost:8080/",
          "height": 206
        },
        "id": "VUogofAU-Ja5",
        "outputId": "de5d9d25-4f5d-484b-aaf1-ec0f92ecca9b"
      },
      "execution_count": null,
      "outputs": [
        {
          "output_type": "execute_result",
          "data": {
            "text/plain": [
              "  Order ID                   Product Quantity Ordered Price Each  \\\n",
              "0   141234                    iPhone                1        700   \n",
              "1   141235  Lightning Charging Cable                1      14.95   \n",
              "2   141236          Wired Headphones                2      11.99   \n",
              "3   141237          27in FHD Monitor                1     149.99   \n",
              "4   141238          Wired Headphones                1      11.99   \n",
              "\n",
              "       Order Date                       Purchase Address  \n",
              "0  01/22/19 21:25        944 Walnut St, Boston, MA 02215  \n",
              "1  01/28/19 14:15       185 Maple St, Portland, OR 97035  \n",
              "2  01/17/19 13:33  538 Adams St, San Francisco, CA 94016  \n",
              "3  01/05/19 20:33     738 10th St, Los Angeles, CA 90001  \n",
              "4  01/25/19 11:59          387 10th St, Austin, TX 73301  "
            ],
            "text/html": [
              "\n",
              "  <div id=\"df-f58b621a-dfd7-4259-aad2-71d9e8b882d5\">\n",
              "    <div class=\"colab-df-container\">\n",
              "      <div>\n",
              "<style scoped>\n",
              "    .dataframe tbody tr th:only-of-type {\n",
              "        vertical-align: middle;\n",
              "    }\n",
              "\n",
              "    .dataframe tbody tr th {\n",
              "        vertical-align: top;\n",
              "    }\n",
              "\n",
              "    .dataframe thead th {\n",
              "        text-align: right;\n",
              "    }\n",
              "</style>\n",
              "<table border=\"1\" class=\"dataframe\">\n",
              "  <thead>\n",
              "    <tr style=\"text-align: right;\">\n",
              "      <th></th>\n",
              "      <th>Order ID</th>\n",
              "      <th>Product</th>\n",
              "      <th>Quantity Ordered</th>\n",
              "      <th>Price Each</th>\n",
              "      <th>Order Date</th>\n",
              "      <th>Purchase Address</th>\n",
              "    </tr>\n",
              "  </thead>\n",
              "  <tbody>\n",
              "    <tr>\n",
              "      <th>0</th>\n",
              "      <td>141234</td>\n",
              "      <td>iPhone</td>\n",
              "      <td>1</td>\n",
              "      <td>700</td>\n",
              "      <td>01/22/19 21:25</td>\n",
              "      <td>944 Walnut St, Boston, MA 02215</td>\n",
              "    </tr>\n",
              "    <tr>\n",
              "      <th>1</th>\n",
              "      <td>141235</td>\n",
              "      <td>Lightning Charging Cable</td>\n",
              "      <td>1</td>\n",
              "      <td>14.95</td>\n",
              "      <td>01/28/19 14:15</td>\n",
              "      <td>185 Maple St, Portland, OR 97035</td>\n",
              "    </tr>\n",
              "    <tr>\n",
              "      <th>2</th>\n",
              "      <td>141236</td>\n",
              "      <td>Wired Headphones</td>\n",
              "      <td>2</td>\n",
              "      <td>11.99</td>\n",
              "      <td>01/17/19 13:33</td>\n",
              "      <td>538 Adams St, San Francisco, CA 94016</td>\n",
              "    </tr>\n",
              "    <tr>\n",
              "      <th>3</th>\n",
              "      <td>141237</td>\n",
              "      <td>27in FHD Monitor</td>\n",
              "      <td>1</td>\n",
              "      <td>149.99</td>\n",
              "      <td>01/05/19 20:33</td>\n",
              "      <td>738 10th St, Los Angeles, CA 90001</td>\n",
              "    </tr>\n",
              "    <tr>\n",
              "      <th>4</th>\n",
              "      <td>141238</td>\n",
              "      <td>Wired Headphones</td>\n",
              "      <td>1</td>\n",
              "      <td>11.99</td>\n",
              "      <td>01/25/19 11:59</td>\n",
              "      <td>387 10th St, Austin, TX 73301</td>\n",
              "    </tr>\n",
              "  </tbody>\n",
              "</table>\n",
              "</div>\n",
              "      <button class=\"colab-df-convert\" onclick=\"convertToInteractive('df-f58b621a-dfd7-4259-aad2-71d9e8b882d5')\"\n",
              "              title=\"Convert this dataframe to an interactive table.\"\n",
              "              style=\"display:none;\">\n",
              "        \n",
              "  <svg xmlns=\"http://www.w3.org/2000/svg\" height=\"24px\"viewBox=\"0 0 24 24\"\n",
              "       width=\"24px\">\n",
              "    <path d=\"M0 0h24v24H0V0z\" fill=\"none\"/>\n",
              "    <path d=\"M18.56 5.44l.94 2.06.94-2.06 2.06-.94-2.06-.94-.94-2.06-.94 2.06-2.06.94zm-11 1L8.5 8.5l.94-2.06 2.06-.94-2.06-.94L8.5 2.5l-.94 2.06-2.06.94zm10 10l.94 2.06.94-2.06 2.06-.94-2.06-.94-.94-2.06-.94 2.06-2.06.94z\"/><path d=\"M17.41 7.96l-1.37-1.37c-.4-.4-.92-.59-1.43-.59-.52 0-1.04.2-1.43.59L10.3 9.45l-7.72 7.72c-.78.78-.78 2.05 0 2.83L4 21.41c.39.39.9.59 1.41.59.51 0 1.02-.2 1.41-.59l7.78-7.78 2.81-2.81c.8-.78.8-2.07 0-2.86zM5.41 20L4 18.59l7.72-7.72 1.47 1.35L5.41 20z\"/>\n",
              "  </svg>\n",
              "      </button>\n",
              "      \n",
              "  <style>\n",
              "    .colab-df-container {\n",
              "      display:flex;\n",
              "      flex-wrap:wrap;\n",
              "      gap: 12px;\n",
              "    }\n",
              "\n",
              "    .colab-df-convert {\n",
              "      background-color: #E8F0FE;\n",
              "      border: none;\n",
              "      border-radius: 50%;\n",
              "      cursor: pointer;\n",
              "      display: none;\n",
              "      fill: #1967D2;\n",
              "      height: 32px;\n",
              "      padding: 0 0 0 0;\n",
              "      width: 32px;\n",
              "    }\n",
              "\n",
              "    .colab-df-convert:hover {\n",
              "      background-color: #E2EBFA;\n",
              "      box-shadow: 0px 1px 2px rgba(60, 64, 67, 0.3), 0px 1px 3px 1px rgba(60, 64, 67, 0.15);\n",
              "      fill: #174EA6;\n",
              "    }\n",
              "\n",
              "    [theme=dark] .colab-df-convert {\n",
              "      background-color: #3B4455;\n",
              "      fill: #D2E3FC;\n",
              "    }\n",
              "\n",
              "    [theme=dark] .colab-df-convert:hover {\n",
              "      background-color: #434B5C;\n",
              "      box-shadow: 0px 1px 3px 1px rgba(0, 0, 0, 0.15);\n",
              "      filter: drop-shadow(0px 1px 2px rgba(0, 0, 0, 0.3));\n",
              "      fill: #FFFFFF;\n",
              "    }\n",
              "  </style>\n",
              "\n",
              "      <script>\n",
              "        const buttonEl =\n",
              "          document.querySelector('#df-f58b621a-dfd7-4259-aad2-71d9e8b882d5 button.colab-df-convert');\n",
              "        buttonEl.style.display =\n",
              "          google.colab.kernel.accessAllowed ? 'block' : 'none';\n",
              "\n",
              "        async function convertToInteractive(key) {\n",
              "          const element = document.querySelector('#df-f58b621a-dfd7-4259-aad2-71d9e8b882d5');\n",
              "          const dataTable =\n",
              "            await google.colab.kernel.invokeFunction('convertToInteractive',\n",
              "                                                     [key], {});\n",
              "          if (!dataTable) return;\n",
              "\n",
              "          const docLinkHtml = 'Like what you see? Visit the ' +\n",
              "            '<a target=\"_blank\" href=https://colab.research.google.com/notebooks/data_table.ipynb>data table notebook</a>'\n",
              "            + ' to learn more about interactive tables.';\n",
              "          element.innerHTML = '';\n",
              "          dataTable['output_type'] = 'display_data';\n",
              "          await google.colab.output.renderOutput(dataTable, element);\n",
              "          const docLink = document.createElement('div');\n",
              "          docLink.innerHTML = docLinkHtml;\n",
              "          element.appendChild(docLink);\n",
              "        }\n",
              "      </script>\n",
              "    </div>\n",
              "  </div>\n",
              "  "
            ]
          },
          "metadata": {},
          "execution_count": 2
        }
      ]
    },
    {
      "cell_type": "markdown",
      "source": [
        "**Merging the 12 months sales Data into a single file.**"
      ],
      "metadata": {
        "id": "e_5WQN3z8xLE"
      }
    },
    {
      "cell_type": "code",
      "source": [
        "sales_year = pd.concat([January, February, March,April, May, June, July, August, September, October, November, December])\n",
        "\n"
      ],
      "metadata": {
        "id": "KW08SGgO8n2K"
      },
      "execution_count": null,
      "outputs": []
    },
    {
      "cell_type": "markdown",
      "source": [
        "**Read updated DataFrame.**"
      ],
      "metadata": {
        "id": "L17K9ydVA76y"
      }
    },
    {
      "cell_type": "code",
      "source": [
        "sales_year.head(10)"
      ],
      "metadata": {
        "colab": {
          "base_uri": "https://localhost:8080/",
          "height": 165
        },
        "id": "6-UlmDs5-xsO",
        "outputId": "736ec485-4a49-4563-db9c-68d49fa3d68a"
      },
      "execution_count": null,
      "outputs": [
        {
          "output_type": "error",
          "ename": "NameError",
          "evalue": "ignored",
          "traceback": [
            "\u001b[0;31m---------------------------------------------------------------------------\u001b[0m",
            "\u001b[0;31mNameError\u001b[0m                                 Traceback (most recent call last)",
            "\u001b[0;32m<ipython-input-2-3349670766bd>\u001b[0m in \u001b[0;36m<cell line: 1>\u001b[0;34m()\u001b[0m\n\u001b[0;32m----> 1\u001b[0;31m \u001b[0msales_year\u001b[0m\u001b[0;34m.\u001b[0m\u001b[0mhead\u001b[0m\u001b[0;34m(\u001b[0m\u001b[0;36m10\u001b[0m\u001b[0;34m)\u001b[0m\u001b[0;34m\u001b[0m\u001b[0;34m\u001b[0m\u001b[0m\n\u001b[0m",
            "\u001b[0;31mNameError\u001b[0m: name 'sales_year' is not defined"
          ]
        }
      ]
    },
    {
      "cell_type": "markdown",
      "source": [
        "**Check the new data frame**"
      ],
      "metadata": {
        "id": "YNWZ3oFsrd1S"
      }
    },
    {
      "cell_type": "code",
      "source": [
        "sales_year.info()"
      ],
      "metadata": {
        "id": "vGh6GQ_RrlDr",
        "outputId": "8e7160ad-3445-4f5d-d2d8-c477fcf97006",
        "colab": {
          "base_uri": "https://localhost:8080/"
        }
      },
      "execution_count": null,
      "outputs": [
        {
          "output_type": "stream",
          "name": "stdout",
          "text": [
            "<class 'pandas.core.frame.DataFrame'>\n",
            "Int64Index: 185441 entries, 0 to 25116\n",
            "Data columns (total 6 columns):\n",
            " #   Column            Non-Null Count   Dtype \n",
            "---  ------            --------------   ----- \n",
            " 0   Order ID          184907 non-null  object\n",
            " 1   Product           184907 non-null  object\n",
            " 2   Quantity Ordered  184907 non-null  object\n",
            " 3   Price Each        184907 non-null  object\n",
            " 4   Order Date        184907 non-null  object\n",
            " 5   Purchase Address  184907 non-null  object\n",
            "dtypes: object(6)\n",
            "memory usage: 9.9+ MB\n"
          ]
        }
      ]
    },
    {
      "cell_type": "markdown",
      "source": [
        "**Checking Sum of null values for each column** "
      ],
      "metadata": {
        "id": "g34X7cODB3OY"
      }
    },
    {
      "cell_type": "code",
      "source": [
        "print(sales_year.isnull().sum())\n",
        "\n"
      ],
      "metadata": {
        "id": "U3401OdmBt5a",
        "colab": {
          "base_uri": "https://localhost:8080/"
        },
        "outputId": "68c435d0-d9ed-4a37-cee2-5930a27689c0"
      },
      "execution_count": null,
      "outputs": [
        {
          "output_type": "stream",
          "name": "stdout",
          "text": [
            "Order ID            534\n",
            "Product             534\n",
            "Quantity Ordered    534\n",
            "Price Each          534\n",
            "Order Date          534\n",
            "Purchase Address    534\n",
            "dtype: int64\n"
          ]
        }
      ]
    },
    {
      "cell_type": "markdown",
      "source": [
        "**Checking rows of Nan**"
      ],
      "metadata": {
        "id": "8-iDkrEFggIV"
      }
    },
    {
      "cell_type": "code",
      "source": [
        "nan_rows = sales_year[sales_year.isna().any(axis=1)]\n",
        "print(nan_rows)"
      ],
      "metadata": {
        "colab": {
          "base_uri": "https://localhost:8080/"
        },
        "id": "6ufpSVOZgXiI",
        "outputId": "e514c708-64e3-4dd0-fca1-227c478291c7"
      },
      "execution_count": null,
      "outputs": [
        {
          "output_type": "stream",
          "name": "stdout",
          "text": [
            "      Order ID Product Quantity Ordered Price Each Order Date Purchase Address\n",
            "664        NaN     NaN              NaN        NaN        NaN              NaN\n",
            "678        NaN     NaN              NaN        NaN        NaN              NaN\n",
            "797        NaN     NaN              NaN        NaN        NaN              NaN\n",
            "876        NaN     NaN              NaN        NaN        NaN              NaN\n",
            "1299       NaN     NaN              NaN        NaN        NaN              NaN\n",
            "...        ...     ...              ...        ...        ...              ...\n",
            "22945      NaN     NaN              NaN        NaN        NaN              NaN\n",
            "22962      NaN     NaN              NaN        NaN        NaN              NaN\n",
            "23309      NaN     NaN              NaN        NaN        NaN              NaN\n",
            "23996      NaN     NaN              NaN        NaN        NaN              NaN\n",
            "24730      NaN     NaN              NaN        NaN        NaN              NaN\n",
            "\n",
            "[534 rows x 6 columns]\n"
          ]
        }
      ]
    },
    {
      "cell_type": "markdown",
      "source": [
        "**Dropping rows of Nan**"
      ],
      "metadata": {
        "id": "H9kZHuOQh49g"
      }
    },
    {
      "cell_type": "code",
      "source": [
        "sales_year = sales_year.dropna()\n",
        "nan_rows = sales_year[sales_year.isna().any(axis=1)]\n",
        "print(nan_rows)"
      ],
      "metadata": {
        "colab": {
          "base_uri": "https://localhost:8080/"
        },
        "id": "daTMUONgh4jT",
        "outputId": "6358ebd1-c983-4fd0-e1c2-80dab20ddf08"
      },
      "execution_count": null,
      "outputs": [
        {
          "output_type": "stream",
          "name": "stdout",
          "text": [
            "Empty DataFrame\n",
            "Columns: [Order ID, Product, Quantity Ordered, Price Each, Order Date, Purchase Address]\n",
            "Index: []\n"
          ]
        }
      ]
    },
    {
      "cell_type": "markdown",
      "source": [
        "**Add Month Column**"
      ],
      "metadata": {
        "id": "3WOP7s85lRN-"
      }
    },
    {
      "cell_type": "code",
      "source": [
        "# Extract the month component and add it as a new column\n",
        "s = pd.Series('Order Date')\n",
        "sales_year['Month'] = sales_year['Order Date'].str.slice(stop=2)\n",
        "sales_year.tail()\n"
      ],
      "metadata": {
        "colab": {
          "base_uri": "https://localhost:8080/",
          "height": 206
        },
        "id": "Tf7p53BliSrA",
        "outputId": "8b26dae0-02a1-4f6d-a486-900e400c3fd8"
      },
      "execution_count": null,
      "outputs": [
        {
          "output_type": "execute_result",
          "data": {
            "text/plain": [
              "      Order ID                     Product Quantity Ordered Price Each  \\\n",
              "25112   319666    Lightning Charging Cable                1      14.95   \n",
              "25113   319667       AA Batteries (4-pack)                2       3.84   \n",
              "25114   319668             Vareebadd Phone                1        400   \n",
              "25115   319669            Wired Headphones                1      11.99   \n",
              "25116   319670  Bose SoundSport Headphones                1      99.99   \n",
              "\n",
              "           Order Date                        Purchase Address Month  \n",
              "25112  12/11/19 20:58  14 Madison St, San Francisco, CA 94016    12  \n",
              "25113  12/01/19 12:01    549 Willow St, Los Angeles, CA 90001    12  \n",
              "25114  12/09/19 06:43        273 Wilson St, Seattle, WA 98101    12  \n",
              "25115  12/03/19 10:39          778 River St, Dallas, TX 75001    12  \n",
              "25116  12/21/19 21:45  747 Chestnut St, Los Angeles, CA 90001    12  "
            ],
            "text/html": [
              "\n",
              "  <div id=\"df-c66ff312-c753-43cb-a9fb-4e5db24533b6\">\n",
              "    <div class=\"colab-df-container\">\n",
              "      <div>\n",
              "<style scoped>\n",
              "    .dataframe tbody tr th:only-of-type {\n",
              "        vertical-align: middle;\n",
              "    }\n",
              "\n",
              "    .dataframe tbody tr th {\n",
              "        vertical-align: top;\n",
              "    }\n",
              "\n",
              "    .dataframe thead th {\n",
              "        text-align: right;\n",
              "    }\n",
              "</style>\n",
              "<table border=\"1\" class=\"dataframe\">\n",
              "  <thead>\n",
              "    <tr style=\"text-align: right;\">\n",
              "      <th></th>\n",
              "      <th>Order ID</th>\n",
              "      <th>Product</th>\n",
              "      <th>Quantity Ordered</th>\n",
              "      <th>Price Each</th>\n",
              "      <th>Order Date</th>\n",
              "      <th>Purchase Address</th>\n",
              "      <th>Month</th>\n",
              "    </tr>\n",
              "  </thead>\n",
              "  <tbody>\n",
              "    <tr>\n",
              "      <th>25112</th>\n",
              "      <td>319666</td>\n",
              "      <td>Lightning Charging Cable</td>\n",
              "      <td>1</td>\n",
              "      <td>14.95</td>\n",
              "      <td>12/11/19 20:58</td>\n",
              "      <td>14 Madison St, San Francisco, CA 94016</td>\n",
              "      <td>12</td>\n",
              "    </tr>\n",
              "    <tr>\n",
              "      <th>25113</th>\n",
              "      <td>319667</td>\n",
              "      <td>AA Batteries (4-pack)</td>\n",
              "      <td>2</td>\n",
              "      <td>3.84</td>\n",
              "      <td>12/01/19 12:01</td>\n",
              "      <td>549 Willow St, Los Angeles, CA 90001</td>\n",
              "      <td>12</td>\n",
              "    </tr>\n",
              "    <tr>\n",
              "      <th>25114</th>\n",
              "      <td>319668</td>\n",
              "      <td>Vareebadd Phone</td>\n",
              "      <td>1</td>\n",
              "      <td>400</td>\n",
              "      <td>12/09/19 06:43</td>\n",
              "      <td>273 Wilson St, Seattle, WA 98101</td>\n",
              "      <td>12</td>\n",
              "    </tr>\n",
              "    <tr>\n",
              "      <th>25115</th>\n",
              "      <td>319669</td>\n",
              "      <td>Wired Headphones</td>\n",
              "      <td>1</td>\n",
              "      <td>11.99</td>\n",
              "      <td>12/03/19 10:39</td>\n",
              "      <td>778 River St, Dallas, TX 75001</td>\n",
              "      <td>12</td>\n",
              "    </tr>\n",
              "    <tr>\n",
              "      <th>25116</th>\n",
              "      <td>319670</td>\n",
              "      <td>Bose SoundSport Headphones</td>\n",
              "      <td>1</td>\n",
              "      <td>99.99</td>\n",
              "      <td>12/21/19 21:45</td>\n",
              "      <td>747 Chestnut St, Los Angeles, CA 90001</td>\n",
              "      <td>12</td>\n",
              "    </tr>\n",
              "  </tbody>\n",
              "</table>\n",
              "</div>\n",
              "      <button class=\"colab-df-convert\" onclick=\"convertToInteractive('df-c66ff312-c753-43cb-a9fb-4e5db24533b6')\"\n",
              "              title=\"Convert this dataframe to an interactive table.\"\n",
              "              style=\"display:none;\">\n",
              "        \n",
              "  <svg xmlns=\"http://www.w3.org/2000/svg\" height=\"24px\"viewBox=\"0 0 24 24\"\n",
              "       width=\"24px\">\n",
              "    <path d=\"M0 0h24v24H0V0z\" fill=\"none\"/>\n",
              "    <path d=\"M18.56 5.44l.94 2.06.94-2.06 2.06-.94-2.06-.94-.94-2.06-.94 2.06-2.06.94zm-11 1L8.5 8.5l.94-2.06 2.06-.94-2.06-.94L8.5 2.5l-.94 2.06-2.06.94zm10 10l.94 2.06.94-2.06 2.06-.94-2.06-.94-.94-2.06-.94 2.06-2.06.94z\"/><path d=\"M17.41 7.96l-1.37-1.37c-.4-.4-.92-.59-1.43-.59-.52 0-1.04.2-1.43.59L10.3 9.45l-7.72 7.72c-.78.78-.78 2.05 0 2.83L4 21.41c.39.39.9.59 1.41.59.51 0 1.02-.2 1.41-.59l7.78-7.78 2.81-2.81c.8-.78.8-2.07 0-2.86zM5.41 20L4 18.59l7.72-7.72 1.47 1.35L5.41 20z\"/>\n",
              "  </svg>\n",
              "      </button>\n",
              "      \n",
              "  <style>\n",
              "    .colab-df-container {\n",
              "      display:flex;\n",
              "      flex-wrap:wrap;\n",
              "      gap: 12px;\n",
              "    }\n",
              "\n",
              "    .colab-df-convert {\n",
              "      background-color: #E8F0FE;\n",
              "      border: none;\n",
              "      border-radius: 50%;\n",
              "      cursor: pointer;\n",
              "      display: none;\n",
              "      fill: #1967D2;\n",
              "      height: 32px;\n",
              "      padding: 0 0 0 0;\n",
              "      width: 32px;\n",
              "    }\n",
              "\n",
              "    .colab-df-convert:hover {\n",
              "      background-color: #E2EBFA;\n",
              "      box-shadow: 0px 1px 2px rgba(60, 64, 67, 0.3), 0px 1px 3px 1px rgba(60, 64, 67, 0.15);\n",
              "      fill: #174EA6;\n",
              "    }\n",
              "\n",
              "    [theme=dark] .colab-df-convert {\n",
              "      background-color: #3B4455;\n",
              "      fill: #D2E3FC;\n",
              "    }\n",
              "\n",
              "    [theme=dark] .colab-df-convert:hover {\n",
              "      background-color: #434B5C;\n",
              "      box-shadow: 0px 1px 3px 1px rgba(0, 0, 0, 0.15);\n",
              "      filter: drop-shadow(0px 1px 2px rgba(0, 0, 0, 0.3));\n",
              "      fill: #FFFFFF;\n",
              "    }\n",
              "  </style>\n",
              "\n",
              "      <script>\n",
              "        const buttonEl =\n",
              "          document.querySelector('#df-c66ff312-c753-43cb-a9fb-4e5db24533b6 button.colab-df-convert');\n",
              "        buttonEl.style.display =\n",
              "          google.colab.kernel.accessAllowed ? 'block' : 'none';\n",
              "\n",
              "        async function convertToInteractive(key) {\n",
              "          const element = document.querySelector('#df-c66ff312-c753-43cb-a9fb-4e5db24533b6');\n",
              "          const dataTable =\n",
              "            await google.colab.kernel.invokeFunction('convertToInteractive',\n",
              "                                                     [key], {});\n",
              "          if (!dataTable) return;\n",
              "\n",
              "          const docLinkHtml = 'Like what you see? Visit the ' +\n",
              "            '<a target=\"_blank\" href=https://colab.research.google.com/notebooks/data_table.ipynb>data table notebook</a>'\n",
              "            + ' to learn more about interactive tables.';\n",
              "          element.innerHTML = '';\n",
              "          dataTable['output_type'] = 'display_data';\n",
              "          await google.colab.output.renderOutput(dataTable, element);\n",
              "          const docLink = document.createElement('div');\n",
              "          docLink.innerHTML = docLinkHtml;\n",
              "          element.appendChild(docLink);\n",
              "        }\n",
              "      </script>\n",
              "    </div>\n",
              "  </div>\n",
              "  "
            ]
          },
          "metadata": {},
          "execution_count": 10
        }
      ]
    },
    {
      "cell_type": "markdown",
      "source": [
        "**What was the best month for sales? How much was earned that month**"
      ],
      "metadata": {
        "id": "kIzb3i319lmQ"
      }
    },
    {
      "cell_type": "code",
      "source": [
        "# drop rows with missing values in the 'Month' column\n",
        "sales_year.dropna(subset=['Month'], inplace=True)\n",
        "# convert the 'Month' column to integer data type\n",
        "sales_year['Month'] = sales_year['Month'].astype(int)\n",
        "# show the data type of the 'Month' column\n",
        "print(sales_year['Month'].dtypes)\n"
      ],
      "metadata": {
        "id": "xV-EXojX90QB",
        "colab": {
          "base_uri": "https://localhost:8080/"
        },
        "outputId": "3b83eb2a-1715-4a1e-843d-79df178b6d32"
      },
      "execution_count": null,
      "outputs": [
        {
          "output_type": "stream",
          "name": "stdout",
          "text": [
            "int64\n"
          ]
        }
      ]
    },
    {
      "cell_type": "code",
      "source": [
        "#Convert Quantity ordered and price to correct data type\n",
        "sales_year['Quantity Ordered'] = pd.to_numeric(sales_year['Quantity Ordered']) #make integer\n",
        "sales_year['Price Each'] = pd.to_numeric(sales_year['Price Each']) #make float\n",
        "print(sales_year.dtypes)"
      ],
      "metadata": {
        "id": "U6n-o-T9sYAN"
      },
      "execution_count": null,
      "outputs": []
    },
    {
      "cell_type": "code",
      "source": [
        "#add 'Total_Sales' Column\n",
        "sales_year['Total_Sales'] = sales_year['Quantity Ordered'] * sales_year['Price Each']\n",
        "sales_year.head()"
      ],
      "metadata": {
        "id": "ySOm4EMTt53Y"
      },
      "execution_count": null,
      "outputs": []
    },
    {
      "cell_type": "code",
      "source": [
        "#Total_sales Per Month\n",
        "sales_by_month = sales_year.groupby('Month').sum('Total_Sales')\n",
        "# sort the results by descending order of 'Total_Sales'\n",
        "# display the resulting dataframe\n",
        "print(sales_by_month)"
      ],
      "metadata": {
        "id": "08KFDx1lvPI8"
      },
      "execution_count": null,
      "outputs": []
    },
    {
      "cell_type": "markdown",
      "source": [
        "**The best month for sales was March with sales worth 5610993.26**"
      ],
      "metadata": {
        "id": "7OZzFKYPw5-5"
      }
    },
    {
      "cell_type": "code",
      "source": [
        "import matplotlib.pyplot as plt\n",
        "import calendar\n",
        "Month = range(1,13)\n",
        "month_names = [calendar.month_name[i][:3] for i in Month]\n",
        "\n",
        "plt.bar(month_names,sales_by_month['Total_Sales'])\n",
        "plt.xticks(rotation=45)\n",
        "plt.ylabel('Sales in USD ($)')\n",
        "plt.xlabel('Month number')\n",
        "plt.title('Total Sales by Month')\n",
        "plt.show()"
      ],
      "metadata": {
        "colab": {
          "base_uri": "https://localhost:8080/",
          "height": 488
        },
        "id": "kvFUkTt2xa5w",
        "outputId": "d8e9c713-b891-4c6a-a830-87a3baed9816"
      },
      "execution_count": null,
      "outputs": [
        {
          "output_type": "display_data",
          "data": {
            "text/plain": [
              "<Figure size 640x480 with 1 Axes>"
            ],
            "image/png": "[encoded data removed]"
          },
          "metadata": {}
        }
      ]
    },
    {
      "cell_type": "markdown",
      "source": [
        "**Best Performing Region**"
      ],
      "metadata": {
        "id": "NXqvCCxFHroT"
      }
    },
    {
      "cell_type": "markdown",
      "source": [],
      "metadata": {
        "id": "J5yaN6w6HrhN"
      }
    }
  ]
}